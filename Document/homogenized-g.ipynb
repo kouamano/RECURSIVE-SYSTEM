{
 "cells": [
  {
   "cell_type": "markdown",
   "id": "313f3d06-41ec-4063-b3b8-bfb4f7bca2fb",
   "metadata": {},
   "source": [
    "## グラフの隣接行列"
   ]
  },
  {
   "cell_type": "markdown",
   "id": "d452e197-f595-4835-a734-a7510ccd1af9",
   "metadata": {},
   "source": [
    "|V |v1|v2|v3|\n",
    "|-|-|-|-|\n",
    "|v1| 1 | 1 | |\n",
    "|v2| | | |\n",
    "|v3| | | |"
   ]
  },
  {
   "cell_type": "markdown",
   "id": "bc532f93",
   "metadata": {},
   "source": [
    "```\n",
    "tq:implicit: (#1v1($#1,v2),v3)\n",
    "tq:explicit: ((#1v1,$#1),($#1,v2),v3)\n",
    "```"
   ]
  },
  {
   "cell_type": "markdown",
   "id": "87e2163a-5bb3-41a4-9a94-671c8bf4672d",
   "metadata": {},
   "source": [
    "## ハイパーグラフの隣接行列"
   ]
  },
  {
   "cell_type": "markdown",
   "id": "4c83df3b-9248-44b5-a4c5-78e7f94d044e",
   "metadata": {},
   "source": [
    "|E/V|v1|v2|v3|\n",
    "|-|-|-|-|\n",
    "|e1| 1 | 1 |1 |\n",
    "|e2| | 1| |"
   ]
  },
  {
   "cell_type": "markdown",
   "id": "311286fb",
   "metadata": {},
   "source": [
    "```\n",
    "tq: (e1(v1,#1v2,v3),e2($#1))\n",
    "```"
   ]
  },
  {
   "cell_type": "markdown",
   "id": "6d59c0a6-eb9b-4261-9b0a-673bc18dfef5",
   "metadata": {},
   "source": [
    "## 均質化2部グラフの隣接行列"
   ]
  },
  {
   "cell_type": "markdown",
   "id": "693b6460-5392-4879-9983-222415d459ca",
   "metadata": {},
   "source": [
    "|E/V|v1=e2|v2|v3|\n",
    "|-|-|-|-|\n",
    "|e1| 1 | 1 |1 |\n",
    "|e2| | 1| |\n",
    "|e3| | 1| |\n",
    "\n",
    "E = E + V\n",
    "\n",
    "V = V + E"
   ]
  },
  {
   "cell_type": "markdown",
   "id": "5f2a9c08",
   "metadata": {},
   "source": [
    "```\n",
    "tq: (e1($#1,#2v2,v3),#1e2($#2),e3($#2))\n",
    "```"
   ]
  },
  {
   "cell_type": "code",
   "execution_count": null,
   "id": "2ed3dde3-a312-405c-bc77-600d0940d94b",
   "metadata": {},
   "outputs": [],
   "source": []
  }
 ],
 "metadata": {
  "kernelspec": {
   "display_name": "Python 3",
   "language": "python",
   "name": "python3"
  },
  "language_info": {
   "codemirror_mode": {
    "name": "ipython",
    "version": 3
   },
   "file_extension": ".py",
   "mimetype": "text/x-python",
   "name": "python",
   "nbconvert_exporter": "python",
   "pygments_lexer": "ipython3",
   "version": "3.8.2"
  }
 },
 "nbformat": 4,
 "nbformat_minor": 5
}
